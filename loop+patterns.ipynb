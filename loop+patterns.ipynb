{
 "cells": [
  {
   "cell_type": "markdown",
   "metadata": {},
   "source": [
    "### Get number from user and print patterns"
   ]
  },
  {
   "cell_type": "code",
   "execution_count": 50,
   "metadata": {},
   "outputs": [
    {
     "name": "stdout",
     "output_type": "stream",
     "text": [
      "Enter value:7\n"
     ]
    }
   ],
   "source": [
    "x = int(input(\"Enter value:\"))"
   ]
  },
  {
   "cell_type": "markdown",
   "metadata": {},
   "source": [
    "### Pattern with for loop"
   ]
  },
  {
   "cell_type": "code",
   "execution_count": 51,
   "metadata": {},
   "outputs": [
    {
     "name": "stdout",
     "output_type": "stream",
     "text": [
      "\n",
      "*\n",
      "**\n",
      "***\n",
      "****\n",
      "*****\n",
      "******\n"
     ]
    }
   ],
   "source": [
    "for i in range(x):\n",
    "    for j in range(i):\n",
    "        print(\"*\",end=\"\")\n",
    "    print()"
   ]
  },
  {
   "cell_type": "code",
   "execution_count": 52,
   "metadata": {},
   "outputs": [
    {
     "name": "stdout",
     "output_type": "stream",
     "text": [
      "       \n",
      "      * \n",
      "     * * \n",
      "    * * * \n",
      "   * * * * \n",
      "  * * * * * \n",
      " * * * * * * \n"
     ]
    }
   ],
   "source": [
    "for i in range(x):\n",
    "    \n",
    "    for s in range(x-i):\n",
    "        print(\" \",end=\"\")\n",
    "    \n",
    "    for j in range(i):\n",
    "        print(\"* \",end=\"\")\n",
    "    print()"
   ]
  },
  {
   "cell_type": "code",
   "execution_count": 53,
   "metadata": {},
   "outputs": [
    {
     "name": "stdout",
     "output_type": "stream",
     "text": [
      "       * \n",
      "      * * \n",
      "     * * * \n",
      "    * * * * \n",
      "     * * * \n",
      "      * * \n",
      "       * \n"
     ]
    }
   ],
   "source": [
    "# can be modified to print pattern for odd and even numbers\n",
    "for i in range(x):\n",
    "\n",
    "    if i<x/2:\n",
    "        \n",
    "        for s in range(x-i):\n",
    "            print(\" \",end=\"\")\n",
    "\n",
    "        for j in range(i+1):\n",
    "            print(\"* \",end=\"\")\n",
    "    else:\n",
    "        \n",
    "        for s in range(i+1):\n",
    "            print(\" \",end=\"\")\n",
    "\n",
    "        for j in range(x-i):\n",
    "            print(\"* \",end=\"\")        \n",
    "        \n",
    "    print()"
   ]
  },
  {
   "cell_type": "markdown",
   "metadata": {},
   "source": [
    "### Pattern with while loop"
   ]
  },
  {
   "cell_type": "code",
   "execution_count": 54,
   "metadata": {},
   "outputs": [
    {
     "name": "stdout",
     "output_type": "stream",
     "text": [
      "\n",
      "*\n",
      "**\n",
      "***\n",
      "****\n",
      "*****\n",
      "******\n"
     ]
    }
   ],
   "source": [
    "i=0\n",
    "while i<x:\n",
    "    j=0\n",
    "    while j<i:\n",
    "        print(\"*\",end=\"\")\n",
    "        j+=1\n",
    "    print()\n",
    "    i+=1"
   ]
  },
  {
   "cell_type": "code",
   "execution_count": 55,
   "metadata": {},
   "outputs": [
    {
     "name": "stdout",
     "output_type": "stream",
     "text": [
      "       \n",
      "      * \n",
      "     * * \n",
      "    * * * \n",
      "   * * * * \n",
      "  * * * * * \n",
      " * * * * * * \n"
     ]
    }
   ],
   "source": [
    "i=0\n",
    "while i<x:\n",
    "\n",
    "    s=0\n",
    "    while s<x-i:\n",
    "        print(\" \",end=\"\")\n",
    "        s+=1\n",
    "   \n",
    "    j=0\n",
    "    while j<i:\n",
    "        print(\"* \",end=\"\")\n",
    "        j+=1\n",
    "    print()\n",
    "    i+=1"
   ]
  },
  {
   "cell_type": "code",
   "execution_count": 56,
   "metadata": {},
   "outputs": [
    {
     "name": "stdout",
     "output_type": "stream",
     "text": [
      "       * \n",
      "      * * \n",
      "     * * * \n",
      "    * * * * \n",
      "     * * * \n",
      "      * * \n",
      "       * \n"
     ]
    }
   ],
   "source": [
    "i=0\n",
    "while i<x:\n",
    "\n",
    "    if i<x/2:\n",
    "        s=0\n",
    "        while s<x-i:\n",
    "            print(\" \",end=\"\")\n",
    "            s+=1\n",
    "\n",
    "        j=0\n",
    "        while j<i+1:\n",
    "            print(\"* \",end=\"\")\n",
    "            j+=1\n",
    "    else:\n",
    "        s=0\n",
    "        while s<i+1:\n",
    "            print(\" \",end=\"\")\n",
    "            s+=1\n",
    "\n",
    "        j=0\n",
    "        while j<x-i:\n",
    "            print(\"* \",end=\"\")\n",
    "            j+=1\n",
    "\n",
    "    \n",
    "    print()\n",
    "    i+=1"
   ]
  }
 ],
 "metadata": {
  "kernelspec": {
   "display_name": "Python 3",
   "language": "python",
   "name": "python3"
  },
  "language_info": {
   "codemirror_mode": {
    "name": "ipython",
    "version": 3
   },
   "file_extension": ".py",
   "mimetype": "text/x-python",
   "name": "python",
   "nbconvert_exporter": "python",
   "pygments_lexer": "ipython3",
   "version": "3.7.9"
  }
 },
 "nbformat": 4,
 "nbformat_minor": 4
}
